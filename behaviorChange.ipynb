{
 "cells": [
  {
   "cell_type": "code",
   "execution_count": null,
   "metadata": {},
   "outputs": [],
   "source": [
    "#importar bibliotecas\n",
    "import pandas as pd\n",
    "import numpy as np\n",
    "import matplotlib.pyplot as plt\n",
    "import json\n",
    "import os\n",
    "import re\n",
    "import seaborn as sns"
   ]
  },
  {
   "cell_type": "code",
   "execution_count": null,
   "metadata": {},
   "outputs": [],
   "source": [
    "'''\n",
    "OBJETIVOS DA SEMANA:\n",
    "- Analisar a mudança dos grupos de acordo com o K\n",
    "- Analisar atraves de 2 testes a porcentagem de mudança dos grupos\n",
    "- Analisar a consistencia dos grupos\n",
    "'''"
   ]
  },
  {
   "cell_type": "code",
   "execution_count": null,
   "metadata": {},
   "outputs": [],
   "source": [
    "# Pasta contendo os arquivos JSON\n",
    "pasta_keywords = 'keywords_k'\n",
    "\n",
    "# Lista para armazenar os DataFrames de cada arquivo\n",
    "dataframes = []\n",
    "\n",
    "# Itera sobre os arquivos na pasta\n",
    "for nome_arquivo in os.listdir(pasta_keywords):\n",
    "    caminho_arquivo = os.path.join(pasta_keywords, nome_arquivo)\n",
    "\n",
    "    try:\n",
    "        # Extrai o valor de k do nome do arquivo\n",
    "        match = re.search(r'keywords_k=(\\d+)', nome_arquivo)\n",
    "        if match:\n",
    "            k_value = int(match.group(1))\n",
    "        else:\n",
    "            k_value = None\n",
    "\n",
    "        # Leitura do arquivo JSON com o encoding utf-8-sig\n",
    "        with open(caminho_arquivo, 'r', encoding='utf-8-sig') as f:\n",
    "            data = json.load(f)\n",
    "\n",
    "        # Extrai a lista de itens sob a chave 'items'\n",
    "        items = data.get('network', {}).get('items', [])\n",
    "\n",
    "        # Converte para DataFrame\n",
    "        df = pd.json_normalize(items)\n",
    "\n",
    "        # Adiciona uma coluna 'k' com o valor extraído do nome do arquivo\n",
    "        df['k'] = k_value\n",
    "\n",
    "        # Adiciona o DataFrame à lista\n",
    "        dataframes.append(df)\n",
    "\n",
    "        # Conta o número de clusters únicos para cada valor de k\n",
    "        num_clusters = df['cluster'].nunique()\n",
    "\n",
    "    except json.JSONDecodeError as e:\n",
    "        print(f\"Erro ao decodificar o JSON em {caminho_arquivo}: {e}\")\n",
    "    except Exception as e:\n",
    "        print(f\"Erro desconhecido em {caminho_arquivo}: {e}\")\n",
    "\n",
    "# Concatena todos os DataFrames em um único DataFrame\n",
    "df_completo = pd.concat(dataframes, ignore_index=True)\n",
    "\n",
    "#Ordena o DataFrame por k\n",
    "df_completo.sort_values(by='k', inplace=True)\n",
    "\n",
    "# imprimir a cabeça do dataframe\n",
    "df_completo.head()"
   ]
  },
  {
   "cell_type": "code",
   "execution_count": null,
   "metadata": {},
   "outputs": [],
   "source": [
    "# Vamos analisar apenas os dados com k = 9 e k = 10\n",
    "df_910 = df_completo[(df_completo['k'] == 9) | (df_completo['k'] == 10)]\n",
    "\n",
    "# Criação do dicionário para armazenar informações sobre os clusters para k=9 e k=10\n",
    "cluster_info = {}\n",
    "\n",
    "# Itera sobre os labels únicos no DataFrame df_910\n",
    "for label in df_910['label'].unique():\n",
    "    # Filtra o DataFrame para o label específico\n",
    "    label_df = df_910[df_910['label'] == label]\n",
    "    \n",
    "    # Obtém o cluster para k=9, se existir\n",
    "    cluster_k9 = label_df[label_df['k'] == 9]['cluster'].values[0] if label_df[label_df['k'] == 9].shape[0] > 0 else None\n",
    "    \n",
    "    # Obtém o cluster para k=10, se existir\n",
    "    cluster_k10 = label_df[label_df['k'] == 10]['cluster'].values[0] if label_df[label_df['k'] == 10].shape[0] > 0 else None\n",
    "    \n",
    "    # Adiciona as informações ao dicionário\n",
    "    cluster_info[label] = {'k=9': cluster_k9, 'k=10': cluster_k10}\n",
    "\n",
    "# Imprime o dicionário\n",
    "print(\"Dicionário de informações sobre clusters para k=9 e k=10:\")\n",
    "print(cluster_info)"
   ]
  },
  {
   "cell_type": "code",
   "execution_count": null,
   "metadata": {},
   "outputs": [],
   "source": [
    "#imprimir quantos labels temos no dicionario\n",
    "print(f\"Quantidade de labels: {len(cluster_info)}\")\n",
    "\n",
    "#imprimir quantos labels temos para k=9 e k=10 em df_910\n",
    "print(f\"Quantidade de labels com k=9: {df_910[df_910['k'] == 9]['label'].nunique()}\")\n",
    "print(f\"Quantidade de labels com k=10: {df_910[df_910['k'] == 10]['label'].nunique()}\")\n",
    "\n",
    "#transformar o dicionario em um dataframe\n",
    "df_cluster_info = pd.DataFrame.from_dict(cluster_info, orient='index')\n",
    "\n",
    "#ordenar o dataframe por k=9 e k=10\n",
    "df_cluster_info.sort_values(by=['k=9', 'k=10'], inplace=True)\n",
    "\n",
    "df_cluster_info"
   ]
  },
  {
   "cell_type": "code",
   "execution_count": null,
   "metadata": {},
   "outputs": [],
   "source": [
    "#criar uma matriz de cluster para k=9 e k=10, com 0\n",
    "cluster_matrix = np.zeros((len(df_cluster_info), len(df_cluster_info)))\n",
    "\n",
    "#mostrar a matriz\n",
    "cluster_matrix"
   ]
  }
 ],
 "metadata": {
  "kernelspec": {
   "display_name": "Python 3",
   "language": "python",
   "name": "python3"
  },
  "language_info": {
   "codemirror_mode": {
    "name": "ipython",
    "version": 3
   },
   "file_extension": ".py",
   "mimetype": "text/x-python",
   "name": "python",
   "nbconvert_exporter": "python",
   "pygments_lexer": "ipython3",
   "version": "3.11.2"
  }
 },
 "nbformat": 4,
 "nbformat_minor": 2
}
